{
 "cells": [
  {
   "cell_type": "code",
   "execution_count": null,
   "id": "3deeeeeb",
   "metadata": {},
   "outputs": [],
   "source": [
    "import pandas as pd\n",
    "import yfinance as yf"
   ]
  },
  {
   "cell_type": "code",
   "execution_count": null,
   "id": "f64daa39",
   "metadata": {},
   "outputs": [],
   "source": [
    "# Data\n",
    "# Use https://finance.yahoo.com/ to find the ticker\n",
    "# SPY, BTC-USD, GLD,^DJI, ^IXIC, ^GSPC\n",
    "# GOOG, MSFT, NVDA, AAPL, AMZN, META\n",
    "ticker_symbol = 'BTC-USD'  # Example: AAPL for Apple Inc. \n",
    "start_date = '2024-01-01'  # YYYY-MM-DD, empty for all data\n",
    "end_date = '2024-12-01' # YYYY-MM-DD, empty for all data\n",
    "interval = '1mo' # default = 1d, 1wk, 1mo\n"
   ]
  },
  {
   "cell_type": "code",
   "execution_count": null,
   "id": "3ad50a2c",
   "metadata": {},
   "outputs": [],
   "source": [
    "# Ignore all warnings \n",
    "warnings.filterwarnings('ignore')\n",
    "\n",
    "# Create a ticker object\n",
    "ticker = yf.Ticker(ticker_symbol)\n",
    "\n",
    "# Fetch historical data\n",
    "if (start_date != '' and end_date != ''): \n",
    "    data = ticker.history(start=start_date, end=end_date,interval=interval)\n",
    "else:\n",
    "    data = ticker.history(period='max',interval=interval)\n",
    "\n",
    "# Convert data to DataFrame\n",
    "df = pd.DataFrame(data)"
   ]
  },
  {
   "cell_type": "code",
   "execution_count": null,
   "id": "478d9f92",
   "metadata": {},
   "outputs": [],
   "source": [
    "df.to_csv(f'{ticker_symbol}.csv')\n"
   ]
  }
 ],
 "metadata": {
  "kernelspec": {
   "display_name": "venv_1",
   "language": "python",
   "name": "python3"
  },
  "language_info": {
   "codemirror_mode": {
    "name": "ipython",
    "version": 3
   },
   "file_extension": ".py",
   "mimetype": "text/x-python",
   "name": "python",
   "nbconvert_exporter": "python",
   "pygments_lexer": "ipython3",
   "version": "3.13.1"
  }
 },
 "nbformat": 4,
 "nbformat_minor": 5
}
